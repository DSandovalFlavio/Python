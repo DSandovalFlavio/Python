{
 "cells": [
  {
   "cell_type": "markdown",
   "metadata": {},
   "source": [
    "# Polimorfismo\n",
    "\n",
    "Aplicado en Python, el polimorfismo es la habilidad de un objeto de cambiar su comportamiento dependiendo de su contexto. En otras palabras, un objeto puede cambiar su forma o su comportamiento dependiendo de la situación.\n",
    "\n",
    "Utilizamos duck typing para implementar el polimorfismo en Python. Esto significa que un objeto puede ser tratado como de un tipo diferente si tiene los métodos y atributos necesarios para ser tratado como tal."
   ]
  },
  {
   "cell_type": "code",
   "execution_count": 18,
   "metadata": {},
   "outputs": [],
   "source": [
    "# Ejemplo metodo que retorna el mayor de dos numeros\n",
    "def return_max(val1, val2):\n",
    "    if isinstance(val1, int) and isinstance(val2, int): # isinstance() verifica si el valor es de un tipo especifico\n",
    "        # si los valores son enteros\n",
    "        if val1 > val2:\n",
    "            return val1\n",
    "        else:\n",
    "            return val2\n",
    "    \n",
    "    elif isinstance(val1, list) and isinstance(val2, list):\n",
    "        # si los valores son listas\n",
    "        if len(val1) > len(val2):\n",
    "            return val1\n",
    "        else:\n",
    "            return val2\n",
    "    elif isinstance(val1, str) and isinstance(val2, str):\n",
    "        # si los valores son cadenas\n",
    "        max_list = [val1,val2]\n",
    "        max_list.sort()\n",
    "        return max_list[0]"
   ]
  },
  {
   "cell_type": "code",
   "execution_count": 19,
   "metadata": {},
   "outputs": [
    {
     "name": "stdout",
     "output_type": "stream",
     "text": [
      "2\n",
      "[1, 2, 3]\n",
      "hola\n"
     ]
    }
   ],
   "source": [
    "# prueba con enteros\n",
    "print(return_max(1,2))\n",
    "# prueba con listas\n",
    "print(return_max([1,2,3],[1,2]))\n",
    "# prueba con cadenas\n",
    "print(return_max(\"hola\",\"mundo\"))\n"
   ]
  },
  {
   "cell_type": "code",
   "execution_count": 34,
   "metadata": {},
   "outputs": [],
   "source": [
    "class Numero:\n",
    "    value = 0\n",
    "    def __init__(self, value):\n",
    "        self.value = value\n",
    "    def compare(self, val):\n",
    "        if self.value > val.value:\n",
    "            return self.value\n",
    "        else:\n",
    "            return val.value\n",
    "\n",
    "class Cadena:\n",
    "    value = \"\"\n",
    "    def __init__(self, value):\n",
    "        self.value = value\n",
    "    def compare(self, val):\n",
    "        max_list = [self.value,val.value]\n",
    "        max_list.sort()\n",
    "        return max_list[0]\n",
    "\n",
    "class Lista:\n",
    "    value = []\n",
    "    def __init__(self, value):\n",
    "        self.value = value\n",
    "    def compare(self, val):\n",
    "        if len(self.value) > len(val.value):\n",
    "            return self.value\n",
    "        else:\n",
    "            return val.value\n",
    "\n",
    "# Utilizamos duck typing para comparar objetos ya que no importa el tipo de objeto sino que tenga el metodo `compare`\n",
    "def return_max(val1, val2):\n",
    "    return val1.compare(val2)"
   ]
  },
  {
   "cell_type": "code",
   "execution_count": 36,
   "metadata": {},
   "outputs": [
    {
     "name": "stdout",
     "output_type": "stream",
     "text": [
      "2\n",
      "[1, 2, 3]\n",
      "hola\n"
     ]
    }
   ],
   "source": [
    "# prueba con enteros\n",
    "num1 = Numero(1)\n",
    "num2 = Numero(2)\n",
    "print(return_max(num1,num2))\n",
    "\n",
    "# prueba con listas\n",
    "lista1 = Lista([1,2,3])\n",
    "lista2 = Lista([1,2])\n",
    "print(return_max(lista1,lista2))\n",
    "\n",
    "# prueba con cadenas\n",
    "cadena1 = Cadena(\"hola\")\n",
    "cadena2 = Cadena(\"mundo\")\n",
    "print(return_max(cadena1,cadena2))"
   ]
  }
 ],
 "metadata": {
  "kernelspec": {
   "display_name": "Python 3.9.13 ('base')",
   "language": "python",
   "name": "python3"
  },
  "language_info": {
   "codemirror_mode": {
    "name": "ipython",
    "version": 3
   },
   "file_extension": ".py",
   "mimetype": "text/x-python",
   "name": "python",
   "nbconvert_exporter": "python",
   "pygments_lexer": "ipython3",
   "version": "3.9.13"
  },
  "vscode": {
   "interpreter": {
    "hash": "475c7db3d3529d2e3a5117dfe8c5d6b06e8390b679e7f37ef17f305cb6414fba"
   }
  }
 },
 "nbformat": 4,
 "nbformat_minor": 2
}
