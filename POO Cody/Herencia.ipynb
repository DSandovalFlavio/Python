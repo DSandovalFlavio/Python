{
 "cells": [
  {
   "cell_type": "markdown",
   "metadata": {},
   "source": [
    "# Herencia"
   ]
  },
  {
   "cell_type": "markdown",
   "metadata": {},
   "source": [
    "Clase padre: Es la clase de la que heredan otras clases."
   ]
  },
  {
   "cell_type": "code",
   "execution_count": 1,
   "metadata": {},
   "outputs": [],
   "source": [
    "class Usuario:\n",
    "    def __init__(self, nombre, apellido, edad):\n",
    "        self.nombre = nombre\n",
    "        self.apellido = apellido\n",
    "        self.edad = edad\n",
    "    def saluda(self, saludo):\n",
    "        return f\"{saludo}, mi nombre es {self.nombre} {self.apellido}\"\n",
    "    def __str__(self):\n",
    "        return f\"Nombre: {self.nombre}, Apellido: {self.apellido}, Edad: {self.edad}\""
   ]
  },
  {
   "cell_type": "markdown",
   "metadata": {},
   "source": [
    "Clase hija: Es la clase que hereda de otra clase, por lo que los objetos generarados por esta clase, tendrán los atributos y métodos de la clase padre, ademas de los que se le hayan agregado a la clase hija."
   ]
  },
  {
   "cell_type": "code",
   "execution_count": 3,
   "metadata": {},
   "outputs": [],
   "source": [
    "class Empleado(Usuario):\n",
    "    def __init__(self, nombre, apellido, edad, sueldo):\n",
    "        super().__init__(nombre, apellido, edad)\n",
    "        self.sueldo = sueldo\n",
    "    def __str__(self):\n",
    "        return f\"Nombre: {self.nombre}, Apellido: {self.apellido}, Edad: {self.edad}, Sueldo: {self.sueldo}\"\n",
    "    def modificar_sueldo(self, nuevo_sueldo):\n",
    "        # metodo especifico de la clase Empleado y no se puede usar en la clase Usuario\n",
    "        self.sueldo = nuevo_sueldo\n",
    "\n",
    "class Admin(Usuario):\n",
    "    def __init__(self, nombre, apellido, edad, permisos):\n",
    "        super().__init__(nombre, apellido, edad)\n",
    "        self.permisos = permisos\n",
    "    def __str__(self):\n",
    "        return f\"Nombre: {self.nombre}, Apellido: {self.apellido}, Edad: {self.edad}, Permisos: {self.permisos}\"\n"
   ]
  },
  {
   "cell_type": "code",
   "execution_count": 6,
   "metadata": {},
   "outputs": [
    {
     "name": "stdout",
     "output_type": "stream",
     "text": [
      "Nombre: Cody, Apellido: Villanueva, Edad: 22, Sueldo: 1000\n",
      "Nombre: Cody, Apellido: Villanueva, Edad: 22, Sueldo: 2000\n"
     ]
    }
   ],
   "source": [
    "empleado = Empleado(\"Cody\", \"Villanueva\", 22, 1000)\n",
    "print(empleado.__str__())\n",
    "empleado.modificar_sueldo(2000)\n",
    "print(empleado.__str__())"
   ]
  },
  {
   "cell_type": "markdown",
   "metadata": {},
   "source": [
    "## Super\n",
    "\n",
    "Con la palabra reservada super, podemos acceder a los atributos y métodos de la clase padre, de esta manera estariamos extendiendo la funcionalidad de la clase padre."
   ]
  },
  {
   "cell_type": "code",
   "execution_count": 11,
   "metadata": {},
   "outputs": [
    {
     "name": "stdout",
     "output_type": "stream",
     "text": [
      "Pagina legal\n",
      "Pie de pagina\n"
     ]
    }
   ],
   "source": [
    "class Pagina:\n",
    "    def imprimir_pie_pagina(self):\n",
    "        print(self.pie_pagina)\n",
    "\n",
    "class PaginaLegal(Pagina):\n",
    "    def imprimir_pie_pagina(self):\n",
    "        print(\"Pagina legal\")\n",
    "        super().imprimir_pie_pagina()\n",
    "\n",
    "html = PaginaLegal()\n",
    "html.pie_pagina = \"Pie de pagina\"\n",
    "\n",
    "html.imprimir_pie_pagina()"
   ]
  }
 ],
 "metadata": {
  "kernelspec": {
   "display_name": "Python 3 (ipykernel)",
   "language": "python",
   "name": "python3"
  },
  "language_info": {
   "codemirror_mode": {
    "name": "ipython",
    "version": 3
   },
   "file_extension": ".py",
   "mimetype": "text/x-python",
   "name": "python",
   "nbconvert_exporter": "python",
   "pygments_lexer": "ipython3",
   "version": "3.9.13"
  },
  "vscode": {
   "interpreter": {
    "hash": "475c7db3d3529d2e3a5117dfe8c5d6b06e8390b679e7f37ef17f305cb6414fba"
   }
  }
 },
 "nbformat": 4,
 "nbformat_minor": 2
}
