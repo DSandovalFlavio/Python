{
 "cells": [
  {
   "cell_type": "markdown",
   "metadata": {},
   "source": [
    "# Clases en Python"
   ]
  },
  {
   "cell_type": "markdown",
   "metadata": {},
   "source": [
    "Para crear una clase en Python, se utiliza la palabra reservada `class` seguida del nombre de la clase(*por convencion de utiliza la primera letra en mayuscula*) y dos puntos `:`.\n",
    "\n",
    "```python\n",
    "class Perro:\n",
    "    pass\n",
    "```"
   ]
  },
  {
   "cell_type": "code",
   "execution_count": 1,
   "metadata": {},
   "outputs": [],
   "source": [
    "class Curso:\n",
    "    # --- Cuerpo de la clase\n",
    "    pass\n",
    "    # --- Fin del cuerpo de la clase"
   ]
  },
  {
   "cell_type": "markdown",
   "metadata": {},
   "source": [
    "## Instanciar una clase"
   ]
  },
  {
   "cell_type": "markdown",
   "metadata": {},
   "source": [
    "Instanciar una clase es crear un objeto a partir de una clase, para instanciar una clase se utiliza el nombre de la clase seguido de paréntesis `()`.\n",
    "\n",
    "```python\n",
    "class Perro:\n",
    "    pass\n",
    "\n",
    "perro = Perro()\n",
    "```\n"
   ]
  },
  {
   "cell_type": "code",
   "execution_count": null,
   "metadata": {},
   "outputs": [],
   "source": [
    "curso_python = Curso()"
   ]
  },
  {
   "cell_type": "markdown",
   "metadata": {},
   "source": [
    "## Propiedades de una clase"
   ]
  },
  {
   "cell_type": "markdown",
   "metadata": {},
   "source": [
    "Añadiendo propiedades a una clase se puede definir el estado de un objeto, para añadir propiedades a una clase se utiliza el método `__init__` que es el método constructor de la clase, este método se ejecuta cuando se instancia un objeto a partir de una clase.\n",
    "\n",
    "```python\n",
    "class Perro:\n",
    "    def __init__(self, nombre, edad, raza):\n",
    "        # Cuelquier objeto que se cree a partir de esta clase tendra estas propiedades\n",
    "        self.nombre = nombre\n",
    "        self.edad = edad\n",
    "        self.raza = raza\n",
    "\n",
    "perro = Perro(\"Firulais\", 3, \"Pastor Aleman\")\n",
    "```\n",
    "Pero tambien se pueden añadir propiedades a un objeto ya instanciado, para añadir propiedades a un objeto se utiliza el operador `.` seguido del nombre de la propiedad y el valor que se le quiere asignar.\n",
    "\n",
    "```python\n",
    "perro.color = \"Cafe\"\n",
    "```"
   ]
  },
  {
   "cell_type": "code",
   "execution_count": 5,
   "metadata": {},
   "outputs": [
    {
     "name": "stdout",
     "output_type": "stream",
     "text": [
      "Cody\n",
      "Robinson\n",
      "25\n",
      "cody@cody.com\n"
     ]
    }
   ],
   "source": [
    "class Usuario:\n",
    "    # --- Cuerpo de la clase\n",
    "    def __init__(self, nombre, apellido, edad):\n",
    "        self.nombre = nombre\n",
    "        self.apellido = apellido\n",
    "        self.edad = edad\n",
    "    # --- Fin del cuerpo de la clase\n",
    "    \n",
    "usuario = Usuario('Cody', 'Robinson', 25)\n",
    "usuario.email = 'cody@cody.com'\n",
    "print(usuario.nombre)\n",
    "print(usuario.apellido)\n",
    "print(usuario.edad)\n",
    "print(usuario.email)"
   ]
  },
  {
   "cell_type": "code",
   "execution_count": 6,
   "metadata": {},
   "outputs": [
    {
     "name": "stdout",
     "output_type": "stream",
     "text": [
      "Cesar\n",
      "Robinson\n",
      "18\n",
      "Ingeniero\n"
     ]
    }
   ],
   "source": [
    "cesar = Usuario('Cesar', 'Robinson', 18)\n",
    "cesar.profesion = 'Ingeniero'\n",
    "print(cesar.nombre)\n",
    "print(cesar.apellido)\n",
    "print(cesar.edad)\n",
    "print(cesar.profesion)"
   ]
  },
  {
   "cell_type": "markdown",
   "metadata": {},
   "source": [
    "## Metodos"
   ]
  },
  {
   "cell_type": "markdown",
   "metadata": {},
   "source": [
    "Los metodos son funciones que se ejecutan dentro de una clase, las funciones mas comunes son alterar o medificar una propiedad de un objeto o hacer una accion con el objeto, para crear un metodo se utiliza la palabra reservada `def` seguido del nombre del metodo y dos puntos `:`.\n",
    "\n",
    "```python\n",
    "class Perro:\n",
    "    def __init__(self, nombre, edad, raza):\n",
    "        # Cuelquier objeto que se cree a partir de esta clase tendra estas propiedades\n",
    "        self.nombre = nombre\n",
    "        self.edad = edad\n",
    "        self.raza = raza\n",
    "        self.sonido = \"Guau Guau\"\n",
    "\n",
    "    def ladrar(self):\n",
    "        # Self hace referencia al objeto que se esta ejecutando\n",
    "        print(self.sonido)\n",
    "```"
   ]
  },
  {
   "cell_type": "code",
   "execution_count": 7,
   "metadata": {},
   "outputs": [],
   "source": [
    "class Usuario:\n",
    "    def __init__(self, nombre, apellido, edad):\n",
    "        self.nombre = nombre\n",
    "        self.apellido = apellido\n",
    "        self.edad = edad\n",
    "    \n",
    "    def saludo(self):\n",
    "        print('Hola, mi nombre es', self.nombre)"
   ]
  },
  {
   "cell_type": "markdown",
   "metadata": {},
   "source": [
    "Para ejecutar un metodo se utiliza el nombre del objeto seguido del nombre del metodo y paréntesis `()`.\n",
    "\n",
    "```python\n",
    "perro.ladrar()\n",
    "```"
   ]
  },
  {
   "cell_type": "code",
   "execution_count": 8,
   "metadata": {},
   "outputs": [
    {
     "name": "stdout",
     "output_type": "stream",
     "text": [
      "Hola, mi nombre es Cesar\n"
     ]
    }
   ],
   "source": [
    "cesar = Usuario('Cesar', 'Robinson', 18)\n",
    "cesar.saludo()"
   ]
  },
  {
   "cell_type": "markdown",
   "metadata": {},
   "source": [
    "Metodos personalizados\n",
    "\n",
    "```python\n",
    "class Perro:\n",
    "    def __init__(self, nombre, edad, raza):\n",
    "        # Cuelquier objeto que se cree a partir de esta clase tendra estas propiedades\n",
    "        self.nombre = nombre\n",
    "        self.edad = edad\n",
    "        self.raza = raza\n",
    "        self.sonido = \"Guau Guau\"\n",
    "\n",
    "    def ladrar(self):\n",
    "        # Self hace referencia al objeto que se esta ejecutando\n",
    "        print(self.sonido)\n",
    "\n",
    "    def moverse_hacia(self, direccion):\n",
    "        print(f\"El perro {self.nombre} se esta moviendo hacia {direccion}\")\n",
    "```"
   ]
  },
  {
   "cell_type": "code",
   "execution_count": 9,
   "metadata": {},
   "outputs": [],
   "source": [
    "class Usuario:\n",
    "    def __init__(self, nombre, apellido, edad):\n",
    "        self.nombre = nombre\n",
    "        self.apellido = apellido\n",
    "        self.edad = edad\n",
    "    \n",
    "    def saludo(self):\n",
    "        print('Hola, mi nombre es', self.nombre)\n",
    "    \n",
    "    def descripcion(self):\n",
    "        print('Mi nombre es', self.nombre, self.apellido, 'y tengo', self.edad, 'años')\n",
    "    \n",
    "    def saludar_a(self, persona): # persona es la variable que recibe el método\n",
    "        print('Hola', persona, 'mi nombre es', self.nombre)"
   ]
  },
  {
   "cell_type": "code",
   "execution_count": 10,
   "metadata": {},
   "outputs": [
    {
     "name": "stdout",
     "output_type": "stream",
     "text": [
      "Hola Cody mi nombre es Cesar\n"
     ]
    }
   ],
   "source": [
    "cesar = Usuario('Cesar', 'Robinson', 18)\n",
    "cesar.saludar_a('Cody')"
   ]
  },
  {
   "cell_type": "markdown",
   "metadata": {},
   "source": [
    "## El Contexto `self`"
   ]
  },
  {
   "cell_type": "markdown",
   "metadata": {},
   "source": [
    "El contexto `self` hace referencia al objeto que se esta ejecutando, por ejemplo si se tiene una clase `Perro` y se crea un objeto `firulais` a partir de esta clase, el contexto `self` hace referencia a `firulais`.\n",
    "\n",
    "```python\n",
    "class Perro:\n",
    "    def __init__(self, nombre, edad, raza):\n",
    "        # Cuelquier objeto que se cree a partir de esta clase tendra estas propiedades\n",
    "        self.nombre = nombre\n",
    "        self.edad = edad\n",
    "        self.raza = raza\n",
    "        self.sonido = \"Guau Guau\"\n",
    "\n",
    "    def ladrar(self):\n",
    "        # Self hace referencia al objeto que se esta ejecutando\n",
    "        print(self.sonido)\n",
    "\n",
    "    def moverse_hacia(self, direccion):\n",
    "        print(f\"El perro {self.nombre} se esta moviendo hacia {direccion}\")\n",
    "\n",
    "firulais = Perro(\"Firulais\", 3, \"Pastor Aleman\")\n",
    "firulais.ladrar()\n",
    "firulais.moverse_hacia(\"el norte\")\n",
    "```"
   ]
  },
  {
   "cell_type": "markdown",
   "metadata": {},
   "source": [
    "Como se puede ver en el ejemplo anterior, el contexto `self` hace referencia al objeto `firulais` y por eso se puede acceder a las propiedades del objeto `firulais` desde el metodo `moverse_hacia`.\n",
    "\n",
    "Importante que siempre al crear metodos dentro de una clase, utilizar el contexto `self` para acceder a las propiedades del objeto que se esta ejecutando."
   ]
  }
 ],
 "metadata": {
  "kernelspec": {
   "display_name": "Python 3.9.13 ('base')",
   "language": "python",
   "name": "python3"
  },
  "language_info": {
   "codemirror_mode": {
    "name": "ipython",
    "version": 3
   },
   "file_extension": ".py",
   "mimetype": "text/x-python",
   "name": "python",
   "nbconvert_exporter": "python",
   "pygments_lexer": "ipython3",
   "version": "3.9.13"
  },
  "orig_nbformat": 4,
  "vscode": {
   "interpreter": {
    "hash": "78eeaae47ace5e2711797a651b797b916b0a2572c6071905f028674a219e3637"
   }
  }
 },
 "nbformat": 4,
 "nbformat_minor": 2
}
