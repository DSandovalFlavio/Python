{
 "cells": [
  {
   "cell_type": "markdown",
   "metadata": {},
   "source": [
    "# Abstraccion y Encapsulacion"
   ]
  },
  {
   "cell_type": "markdown",
   "metadata": {},
   "source": [
    "## Propiedad publica"
   ]
  },
  {
   "cell_type": "code",
   "execution_count": 2,
   "metadata": {},
   "outputs": [
    {
     "data": {
      "text/plain": [
       "'Cody'"
      ]
     },
     "execution_count": 2,
     "metadata": {},
     "output_type": "execute_result"
    }
   ],
   "source": [
    "class Usuario:\n",
    "    nombre = \"Cody\"\n",
    "    def mi_nombre(self):\n",
    "        return self.nombre\n",
    "    def saludar(self, saludo):\n",
    "        print(saludo, self.nombre)\n",
    "    \n",
    "class Empleado(Usuario):\n",
    "    salario = 0\n",
    "    def modificar_salario(self, nuevo_salario):\n",
    "        self.salario = nuevo_salario\n",
    "\n",
    "empleado = Empleado()\n",
    "empleado.nombre"
   ]
  },
  {
   "cell_type": "markdown",
   "metadata": {},
   "source": [
    "## Propiedad protegida"
   ]
  },
  {
   "cell_type": "code",
   "execution_count": 5,
   "metadata": {},
   "outputs": [],
   "source": [
    "class Usuario:\n",
    "    def __init__(self, nombre):\n",
    "        self.nombre = nombre\n",
    "    def saludar(self, saludo):\n",
    "        print(saludo, self.nombre)\n",
    "    \n",
    "class Empleado(Usuario):\n",
    "    _salario = 1000\n",
    "    \n",
    "    def modificar_salario(self, nuevo_salario):\n",
    "        self._salario = nuevo_salario\n",
    "    \n",
    "    def consultar_salario(self):\n",
    "        return self._salario\n",
    "    \n",
    "    def saludar(self):\n",
    "        super().saludar(\"Hola\")\n",
    "        print(\"Mi nombre es\", self.nombre, \"y mi salario es\", str(self._salario))\n",
    "\n",
    "empleado = Empleado(\"Cody\")"
   ]
  },
  {
   "cell_type": "code",
   "execution_count": 7,
   "metadata": {},
   "outputs": [
    {
     "data": {
      "text/plain": [
       "1000"
      ]
     },
     "execution_count": 7,
     "metadata": {},
     "output_type": "execute_result"
    }
   ],
   "source": [
    "empleado._salario # No se debe acceder a atributos privados aunque se pueda"
   ]
  },
  {
   "cell_type": "markdown",
   "metadata": {},
   "source": [
    "# Propiedad privada"
   ]
  },
  {
   "cell_type": "code",
   "execution_count": 8,
   "metadata": {},
   "outputs": [],
   "source": [
    "class Usuario:\n",
    "    def __init__(self, nombre):\n",
    "        self.nombre = nombre\n",
    "    def saludar(self, saludo):\n",
    "        print(saludo, self.nombre)\n",
    "    \n",
    "class Empleado(Usuario):\n",
    "    _salario = 1000\n",
    "    __aguinaldo = 100000\n",
    "    \n",
    "    def modificar_salario(self, nuevo_salario):\n",
    "        self._salario = nuevo_salario\n",
    "    \n",
    "    def consultar_salario(self):\n",
    "        return self._salario\n",
    "    \n",
    "    def modificar_aguinaldo(self, nuevo_aguinaldo):\n",
    "        self.__aguinaldo = nuevo_aguinaldo\n",
    "    \n",
    "    def consultar_aguinaldo(self):\n",
    "        return self.__aguinaldo\n",
    "    \n",
    "    def saludar(self):\n",
    "        super().saludar(\"Hola\")\n",
    "        print(\"Mi nombre es\", self.nombre, \"y mi salario es\", str(self._salario))\n",
    "\n",
    "empleado = Empleado(\"Cody\")"
   ]
  },
  {
   "cell_type": "code",
   "execution_count": 9,
   "metadata": {},
   "outputs": [
    {
     "ename": "AttributeError",
     "evalue": "'Empleado' object has no attribute '__aguinaldo'",
     "output_type": "error",
     "traceback": [
      "\u001b[0;31m---------------------------------------------------------------------------\u001b[0m",
      "\u001b[0;31mAttributeError\u001b[0m                            Traceback (most recent call last)",
      "\u001b[0;32m/var/folders/81/c456ltr14hq4ydvtrtb28p2w0000gn/T/ipykernel_7764/3552487015.py\u001b[0m in \u001b[0;36m<module>\u001b[0;34m\u001b[0m\n\u001b[0;32m----> 1\u001b[0;31m \u001b[0mempleado\u001b[0m\u001b[0;34m.\u001b[0m\u001b[0m__aguinaldo\u001b[0m\u001b[0;34m\u001b[0m\u001b[0;34m\u001b[0m\u001b[0m\n\u001b[0m",
      "\u001b[0;31mAttributeError\u001b[0m: 'Empleado' object has no attribute '__aguinaldo'"
     ]
    }
   ],
   "source": [
    "empleado.__aguinaldo # Se podria acceder a atributos privados de la siguiente manera ´´´empleado._Empleado__aguinaldo´´´ pero no se debe hacer"
   ]
  },
  {
   "cell_type": "code",
   "execution_count": 42,
   "metadata": {},
   "outputs": [
    {
     "name": "stdout",
     "output_type": "stream",
     "text": [
      "Propiedad puclica accesible desde cualquier parte\n",
      "Atributos desde la clase Usuario\n",
      "Codito\n",
      "Garcia\n",
      "Atributos desde la clase Empleado\n",
      "Cody\n",
      "Garcia\n",
      "Atributos desde la clase Ejecutivo\n",
      "Sr.Cody\n",
      "Garcia\n",
      "******************************************\n",
      "Propiedad protegida accesible desde la clase y sus subclases directas\n",
      "Atributos desde la clase Empleado\n",
      "1000\n",
      "2000\n",
      "Atributos desde la clase Ejecutivo\n",
      "1000\n",
      "3000\n",
      "******************************************\n",
      "Propiedad privada accesible solo desde la clase\n",
      "3000\n"
     ]
    },
    {
     "ename": "AttributeError",
     "evalue": "'Ejecutivo' object has no attribute '_Ejecutivo__aguinaldo'",
     "output_type": "error",
     "traceback": [
      "\u001b[0;31m---------------------------------------------------------------------------\u001b[0m",
      "\u001b[0;31mAttributeError\u001b[0m                            Traceback (most recent call last)",
      "\u001b[0;32m/var/folders/81/c456ltr14hq4ydvtrtb28p2w0000gn/T/ipykernel_7764/2291725460.py\u001b[0m in \u001b[0;36m<module>\u001b[0;34m\u001b[0m\n\u001b[1;32m     60\u001b[0m \u001b[0mprint\u001b[0m\u001b[0;34m(\u001b[0m\u001b[0;34m'Propiedad privada accesible solo desde la clase'\u001b[0m\u001b[0;34m)\u001b[0m\u001b[0;34m\u001b[0m\u001b[0;34m\u001b[0m\u001b[0m\n\u001b[1;32m     61\u001b[0m \u001b[0mprint\u001b[0m\u001b[0;34m(\u001b[0m\u001b[0mejecutivo\u001b[0m\u001b[0;34m.\u001b[0m\u001b[0mconsultar_salario\u001b[0m\u001b[0;34m(\u001b[0m\u001b[0;34m)\u001b[0m\u001b[0;34m)\u001b[0m\u001b[0;34m\u001b[0m\u001b[0;34m\u001b[0m\u001b[0m\n\u001b[0;32m---> 62\u001b[0;31m \u001b[0mejecutivo\u001b[0m\u001b[0;34m.\u001b[0m\u001b[0mbono_mas_aguinaldo\u001b[0m\u001b[0;34m(\u001b[0m\u001b[0;34m)\u001b[0m\u001b[0;34m\u001b[0m\u001b[0;34m\u001b[0m\u001b[0m\n\u001b[0m\u001b[1;32m     63\u001b[0m \u001b[0mprint\u001b[0m\u001b[0;34m(\u001b[0m\u001b[0mejecutivo\u001b[0m\u001b[0;34m.\u001b[0m\u001b[0mconsultar_aguinaldo\u001b[0m\u001b[0;34m(\u001b[0m\u001b[0;34m)\u001b[0m\u001b[0;34m)\u001b[0m\u001b[0;34m\u001b[0m\u001b[0;34m\u001b[0m\u001b[0m\n\u001b[1;32m     64\u001b[0m \u001b[0;34m\u001b[0m\u001b[0m\n",
      "\u001b[0;32m/var/folders/81/c456ltr14hq4ydvtrtb28p2w0000gn/T/ipykernel_7764/2291725460.py\u001b[0m in \u001b[0;36mbono_mas_aguinaldo\u001b[0;34m(self)\u001b[0m\n\u001b[1;32m     31\u001b[0m         \u001b[0mprint\u001b[0m\u001b[0;34m(\u001b[0m\u001b[0;34m\"Y soy un ejecutivo\"\u001b[0m\u001b[0;34m)\u001b[0m\u001b[0;34m\u001b[0m\u001b[0;34m\u001b[0m\u001b[0m\n\u001b[1;32m     32\u001b[0m     \u001b[0;32mdef\u001b[0m \u001b[0mbono_mas_aguinaldo\u001b[0m\u001b[0;34m(\u001b[0m\u001b[0mself\u001b[0m\u001b[0;34m)\u001b[0m\u001b[0;34m:\u001b[0m\u001b[0;34m\u001b[0m\u001b[0;34m\u001b[0m\u001b[0m\n\u001b[0;32m---> 33\u001b[0;31m         \u001b[0mself\u001b[0m\u001b[0;34m.\u001b[0m\u001b[0m__aguinaldo\u001b[0m \u001b[0;34m=\u001b[0m \u001b[0mself\u001b[0m\u001b[0;34m.\u001b[0m\u001b[0m_salario\u001b[0m \u001b[0;34m+\u001b[0m \u001b[0mself\u001b[0m\u001b[0;34m.\u001b[0m\u001b[0m__aguinaldo\u001b[0m \u001b[0;31m# no se puede acceder a la propiedad privada desde fuera de la clase, esto generara un error\u001b[0m\u001b[0;34m\u001b[0m\u001b[0;34m\u001b[0m\u001b[0m\n\u001b[0m\u001b[1;32m     34\u001b[0m \u001b[0;34m\u001b[0m\u001b[0m\n\u001b[1;32m     35\u001b[0m \u001b[0musuario\u001b[0m \u001b[0;34m=\u001b[0m \u001b[0mUsuario\u001b[0m\u001b[0;34m(\u001b[0m\u001b[0;34m\"Codito\"\u001b[0m\u001b[0;34m)\u001b[0m\u001b[0;34m\u001b[0m\u001b[0;34m\u001b[0m\u001b[0m\n",
      "\u001b[0;31mAttributeError\u001b[0m: 'Ejecutivo' object has no attribute '_Ejecutivo__aguinaldo'"
     ]
    }
   ],
   "source": [
    "class Usuario:\n",
    "    def __init__(self, nombre):\n",
    "        self.nombre = nombre\n",
    "        self.apellido = \"Garcia\" # propiedad publica\n",
    "    def saludar(self, saludo):\n",
    "        print(saludo, self.nombre)\n",
    "    \n",
    "class Empleado(Usuario):\n",
    "    _salario = 1000 # propiedad protegida\n",
    "    __aguinaldo = 100000 # propiedad privada\n",
    "    \n",
    "    def modificar_salario(self, nuevo_salario):\n",
    "        self._salario = nuevo_salario\n",
    "    \n",
    "    def consultar_salario(self):\n",
    "        return self._salario\n",
    "    \n",
    "    def modificar_aguinaldo(self, nuevo_aguinaldo):\n",
    "        self.__aguinaldo = nuevo_aguinaldo\n",
    "    \n",
    "    def consultar_aguinaldo(self):\n",
    "        return self.__aguinaldo\n",
    "    \n",
    "    def saludar(self):\n",
    "        super().saludar(\"Hola\")\n",
    "        print(\"Mi nombre es\", self.nombre, \"y mi salario es\", str(self._salario))\n",
    "\n",
    "class Ejecutivo(Empleado):\n",
    "    def saludar(self):\n",
    "        super().saludar()\n",
    "        print(\"Y soy un ejecutivo\")\n",
    "    def bono_mas_aguinaldo(self):\n",
    "        self.__aguinaldo = self._salario + self.__aguinaldo # no se puede acceder a la propiedad privada desde fuera de la clase, esto generara un error\n",
    "\n",
    "usuario = Usuario(\"Codito\")\n",
    "empleado = Empleado(\"Cody\")\n",
    "ejecutivo = Ejecutivo(\"Sr.Cody\")\n",
    "\n",
    "print('Propiedad puclica accesible desde cualquier parte')\n",
    "print('Atributos desde la clase Usuario')\n",
    "print(usuario.nombre)\n",
    "print(usuario.apellido)\n",
    "print('Atributos desde la clase Empleado')\n",
    "print(empleado.nombre)\n",
    "print(empleado.apellido)\n",
    "print('Atributos desde la clase Ejecutivo')\n",
    "print(ejecutivo.nombre)\n",
    "print(ejecutivo.apellido)\n",
    "print('******************************************')\n",
    "print('Propiedad protegida accesible desde la clase y sus subclases directas')\n",
    "print('Atributos desde la clase Empleado')\n",
    "print(empleado._salario) # esto no se debe hacer\n",
    "empleado.modificar_salario(2000)\n",
    "print(empleado.consultar_salario())\n",
    "print('Atributos desde la clase Ejecutivo')\n",
    "print(ejecutivo._salario) # esto no se debe hacer\n",
    "ejecutivo.modificar_salario(3000)\n",
    "print(ejecutivo.consultar_salario())\n",
    "print('******************************************')\n",
    "print('Propiedad privada accesible solo desde la clase')\n",
    "print(ejecutivo.consultar_salario())\n",
    "ejecutivo.bono_mas_aguinaldo()\n",
    "print(ejecutivo.consultar_aguinaldo())\n",
    "\n"
   ]
  },
  {
   "cell_type": "markdown",
   "metadata": {},
   "source": [
    "## Abstraccion"
   ]
  },
  {
   "cell_type": "markdown",
   "metadata": {},
   "source": [
    "Metodos accesores"
   ]
  },
  {
   "cell_type": "code",
   "execution_count": 2,
   "metadata": {},
   "outputs": [],
   "source": [
    "class Usuario:\n",
    "    def __init__(self, nombre):\n",
    "        self.nombre = nombre\n",
    "        self.apellido = \"Garcia\"\n",
    "        self.__edad = 0\n",
    "    def saludar(self, saludo):\n",
    "        print(saludo, self.nombre)\n",
    "    \n",
    "    @property\n",
    "    def edad(self): # getter\n",
    "        return self.__edad\n",
    "    \n",
    "    @edad.setter\n",
    "    def edad(self, edad): # setter\n",
    "        if edad < 0:\n",
    "            raise ValueError(\"La edad no puede ser negativa\")\n",
    "        else:\n",
    "            self.__edad = edad"
   ]
  },
  {
   "cell_type": "code",
   "execution_count": 3,
   "metadata": {},
   "outputs": [],
   "source": [
    "empleado = Usuario(\"Cody\")\n",
    "empleado.edad = 30"
   ]
  },
  {
   "cell_type": "code",
   "execution_count": 4,
   "metadata": {},
   "outputs": [
    {
     "ename": "ValueError",
     "evalue": "La edad no puede ser negativa",
     "output_type": "error",
     "traceback": [
      "\u001b[0;31m---------------------------------------------------------------------------\u001b[0m",
      "\u001b[0;31mValueError\u001b[0m                                Traceback (most recent call last)",
      "\u001b[0;32m/var/folders/81/c456ltr14hq4ydvtrtb28p2w0000gn/T/ipykernel_1400/851405560.py\u001b[0m in \u001b[0;36m<module>\u001b[0;34m\u001b[0m\n\u001b[0;32m----> 1\u001b[0;31m \u001b[0mempleado\u001b[0m\u001b[0;34m.\u001b[0m\u001b[0medad\u001b[0m \u001b[0;34m=\u001b[0m \u001b[0;34m-\u001b[0m\u001b[0;36m1\u001b[0m \u001b[0;31m# esto generara un error\u001b[0m\u001b[0;34m\u001b[0m\u001b[0;34m\u001b[0m\u001b[0m\n\u001b[0m",
      "\u001b[0;32m/var/folders/81/c456ltr14hq4ydvtrtb28p2w0000gn/T/ipykernel_1400/3445031695.py\u001b[0m in \u001b[0;36medad\u001b[0;34m(self, edad)\u001b[0m\n\u001b[1;32m     14\u001b[0m     \u001b[0;32mdef\u001b[0m \u001b[0medad\u001b[0m\u001b[0;34m(\u001b[0m\u001b[0mself\u001b[0m\u001b[0;34m,\u001b[0m \u001b[0medad\u001b[0m\u001b[0;34m)\u001b[0m\u001b[0;34m:\u001b[0m \u001b[0;31m# setter\u001b[0m\u001b[0;34m\u001b[0m\u001b[0;34m\u001b[0m\u001b[0m\n\u001b[1;32m     15\u001b[0m         \u001b[0;32mif\u001b[0m \u001b[0medad\u001b[0m \u001b[0;34m<\u001b[0m \u001b[0;36m0\u001b[0m\u001b[0;34m:\u001b[0m\u001b[0;34m\u001b[0m\u001b[0;34m\u001b[0m\u001b[0m\n\u001b[0;32m---> 16\u001b[0;31m             \u001b[0;32mraise\u001b[0m \u001b[0mValueError\u001b[0m\u001b[0;34m(\u001b[0m\u001b[0;34m\"La edad no puede ser negativa\"\u001b[0m\u001b[0;34m)\u001b[0m\u001b[0;34m\u001b[0m\u001b[0;34m\u001b[0m\u001b[0m\n\u001b[0m\u001b[1;32m     17\u001b[0m         \u001b[0;32melse\u001b[0m\u001b[0;34m:\u001b[0m\u001b[0;34m\u001b[0m\u001b[0;34m\u001b[0m\u001b[0m\n\u001b[1;32m     18\u001b[0m             \u001b[0mself\u001b[0m\u001b[0;34m.\u001b[0m\u001b[0m__edad\u001b[0m \u001b[0;34m=\u001b[0m \u001b[0medad\u001b[0m\u001b[0;34m\u001b[0m\u001b[0;34m\u001b[0m\u001b[0m\n",
      "\u001b[0;31mValueError\u001b[0m: La edad no puede ser negativa"
     ]
    }
   ],
   "source": [
    "empleado.edad = -1 # esto generara un error"
   ]
  },
  {
   "cell_type": "markdown",
   "metadata": {},
   "source": [
    "Ejemplo de abstraccion, cuando cambia el tipo de dato de una propiedad"
   ]
  },
  {
   "cell_type": "code",
   "execution_count": 5,
   "metadata": {},
   "outputs": [],
   "source": [
    "class FilaBanco:\n",
    "    usuario = {}\n",
    "    \n",
    "    def siguiente_usuario(self):\n",
    "        pass\n",
    "    \n",
    "    def formar_usuario(self):\n",
    "        pass"
   ]
  },
  {
   "cell_type": "code",
   "execution_count": null,
   "metadata": {},
   "outputs": [],
   "source": [
    "class FilaBanco:\n",
    "    usuario = {}\n",
    "    \n",
    "    def siguiente_usuario(self, num):\n",
    "        return self.usuario[num]\n",
    "    \n",
    "    def formar_usuario(self, usuario):\n",
    "        self.usuario[len(self.usuario)] = usuario"
   ]
  },
  {
   "cell_type": "code",
   "execution_count": 6,
   "metadata": {},
   "outputs": [],
   "source": [
    "class Hash():\n",
    "    data = {}\n",
    "    \n",
    "    def get_data(self, key):\n",
    "        data[key]\n",
    "    \n",
    "    def append_data(self, key, value):\n",
    "        data[key] = value"
   ]
  },
  {
   "cell_type": "code",
   "execution_count": 7,
   "metadata": {},
   "outputs": [],
   "source": [
    "class Queue():\n",
    "    data = []\n",
    "    \n",
    "    def get_data(self):\n",
    "        data[0]\n",
    "    \n",
    "    def append_data(self, value):\n",
    "        data[len(data)-1] = value"
   ]
  },
  {
   "cell_type": "code",
   "execution_count": null,
   "metadata": {},
   "outputs": [],
   "source": [
    "class FilaBanco:\n",
    "    usuario = Queue()\n",
    "    \n",
    "    def siguiente_usuario(self, num):\n",
    "        return self.usuario.get_data(num)\n",
    "    \n",
    "    def formar_usuario(self, usuario):\n",
    "        self.usuario.append_data(usuario)"
   ]
  }
 ],
 "metadata": {
  "kernelspec": {
   "display_name": "Python 3 (ipykernel)",
   "language": "python",
   "name": "python3"
  },
  "language_info": {
   "codemirror_mode": {
    "name": "ipython",
    "version": 3
   },
   "file_extension": ".py",
   "mimetype": "text/x-python",
   "name": "python",
   "nbconvert_exporter": "python",
   "pygments_lexer": "ipython3",
   "version": "3.9.13"
  },
  "vscode": {
   "interpreter": {
    "hash": "475c7db3d3529d2e3a5117dfe8c5d6b06e8390b679e7f37ef17f305cb6414fba"
   }
  }
 },
 "nbformat": 4,
 "nbformat_minor": 2
}
